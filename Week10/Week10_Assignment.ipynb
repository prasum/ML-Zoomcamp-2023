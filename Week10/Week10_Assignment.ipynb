{
 "cells": [
  {
   "cell_type": "markdown",
   "id": "abcfcfab",
   "metadata": {},
   "source": [
    "## Question 1\n",
    "`{'get_credit': True, 'get_credit_probability': <value>}`<br/>\n",
    "Here <value> is the probability of getting a credit card. You need to choose the right one.\n",
    "\n",
    "- 0.3269\n",
    "- 0.5269\n",
    "- 0.7269\n",
    "- 0.9269"
   ]
  },
  {
   "cell_type": "markdown",
   "id": "438b8c1e",
   "metadata": {},
   "source": [
    "The probability of getting credit card is 0.7269"
   ]
  },
  {
   "cell_type": "markdown",
   "id": "d0bedf64",
   "metadata": {},
   "source": [
    "## Question 2\n",
    "What's the version of kind that you have?"
   ]
  },
  {
   "cell_type": "markdown",
   "id": "c72e0b78",
   "metadata": {},
   "source": [
    "The kind version is 0.20.0"
   ]
  },
  {
   "cell_type": "markdown",
   "id": "a9b4a82c",
   "metadata": {},
   "source": [
    "## Question 3\n",
    "Get the list of running services.\n",
    "What's CLUSTER-IP of the service that is already running there?"
   ]
  },
  {
   "cell_type": "markdown",
   "id": "c62578c1",
   "metadata": {},
   "source": [
    "The cluster ip is 10.96.0.10"
   ]
  },
  {
   "cell_type": "markdown",
   "id": "d1f206a7",
   "metadata": {},
   "source": [
    "## Question 4\n",
    "What's the command to register docker image with kind?"
   ]
  },
  {
   "cell_type": "markdown",
   "id": "aa52c0d8",
   "metadata": {},
   "source": [
    "kind load docker-image"
   ]
  },
  {
   "cell_type": "markdown",
   "id": "ae65d217",
   "metadata": {},
   "source": [
    "## Question 5\n",
    "What is the value for `<Port>` in deployment.yaml?"
   ]
  },
  {
   "cell_type": "markdown",
   "id": "57afc97a",
   "metadata": {},
   "source": [
    "The value for <Port> in deployment.yaml is 9696"
   ]
  },
  {
   "cell_type": "markdown",
   "id": "4ce82cd9",
   "metadata": {},
   "source": [
    "## Question 6\n",
    "What is `<???>` in service.yaml?"
   ]
  },
  {
   "cell_type": "markdown",
   "id": "980a9d59",
   "metadata": {},
   "source": [
    "It is credit"
   ]
  }
 ],
 "metadata": {
  "kernelspec": {
   "display_name": "Python 3 (ipykernel)",
   "language": "python",
   "name": "python3"
  },
  "language_info": {
   "codemirror_mode": {
    "name": "ipython",
    "version": 3
   },
   "file_extension": ".py",
   "mimetype": "text/x-python",
   "name": "python",
   "nbconvert_exporter": "python",
   "pygments_lexer": "ipython3",
   "version": "3.10.9"
  }
 },
 "nbformat": 4,
 "nbformat_minor": 5
}
