{
 "cells": [
  {
   "cell_type": "markdown",
   "id": "056f52b1",
   "metadata": {},
   "source": [
    "## Question 1\n",
    "`{'get_credit': True, 'get_credit_probability': <value>}`<br/>\n",
    "Here <value> is the probability of getting a credit card. You need to choose the right one.\n",
    "\n",
    "- 0.3269\n",
    "- 0.5269\n",
    "- 0.7269\n",
    "- 0.9269"
   ]
  },
  {
   "cell_type": "markdown",
   "id": "8c14b15a",
   "metadata": {},
   "source": [
    "The probability of getting credit card is 0.7269"
   ]
  },
  {
   "cell_type": "markdown",
   "id": "df619884",
   "metadata": {},
   "source": [
    "## Question 2\n",
    "What's the version of kind that you have?"
   ]
  },
  {
   "cell_type": "markdown",
   "id": "75df6978",
   "metadata": {},
   "source": [
    "The kind version is 0.20.0"
   ]
  },
  {
   "cell_type": "markdown",
   "id": "694a9002",
   "metadata": {},
   "source": [
    "## Question 3\n",
    "Get the list of running services.\n",
    "What's CLUSTER-IP of the service that is already running there?"
   ]
  },
  {
   "cell_type": "markdown",
   "id": "d63ab414",
   "metadata": {},
   "source": [
    "The cluster ip is 10.96.0.10"
   ]
  },
  {
   "cell_type": "markdown",
   "id": "4ad3b479",
   "metadata": {},
   "source": [
    "## Question 4\n",
    "What's the command to register docker image with kind?"
   ]
  },
  {
   "cell_type": "markdown",
   "id": "c2458a91",
   "metadata": {},
   "source": [
    "kind load docker-image"
   ]
  },
  {
   "cell_type": "markdown",
   "id": "57c2f3ce",
   "metadata": {},
   "source": [
    "## Question 5\n",
    "What is the value for `<Port>` in deployment.yaml?"
   ]
  },
  {
   "cell_type": "markdown",
   "id": "f3cb7f80",
   "metadata": {},
   "source": [
    "The value for <Port> in deployment.yaml is 9696"
   ]
  },
  {
   "cell_type": "markdown",
   "id": "b25ce185",
   "metadata": {},
   "source": [
    "## Question 6\n",
    "What is `<???>` in service.yaml?"
   ]
  },
  {
   "cell_type": "markdown",
   "id": "8ba806ee",
   "metadata": {},
   "source": [
    "It is credit"
   ]
  }
 ],
 "metadata": {
  "kernelspec": {
   "display_name": "Python 3 (ipykernel)",
   "language": "python",
   "name": "python3"
  },
  "language_info": {
   "codemirror_mode": {
    "name": "ipython",
    "version": 3
   },
   "file_extension": ".py",
   "mimetype": "text/x-python",
   "name": "python",
   "nbconvert_exporter": "python",
   "pygments_lexer": "ipython3",
   "version": "3.10.9"
  }
 },
 "nbformat": 4,
 "nbformat_minor": 5
}
