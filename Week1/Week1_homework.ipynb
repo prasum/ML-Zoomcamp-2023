{
 "cells": [
  {
   "cell_type": "code",
   "execution_count": 1,
   "id": "a06aa609",
   "metadata": {},
   "outputs": [],
   "source": [
    "import pandas as pd\n",
    "import numpy as np"
   ]
  },
  {
   "cell_type": "markdown",
   "id": "946224b1",
   "metadata": {},
   "source": [
    "**Question 1**<br/>\n",
    "`What's the version of Pandas that you installed?`"
   ]
  },
  {
   "cell_type": "code",
   "execution_count": 2,
   "id": "80b30215",
   "metadata": {},
   "outputs": [
    {
     "data": {
      "text/plain": [
       "'1.5.3'"
      ]
     },
     "execution_count": 2,
     "metadata": {},
     "output_type": "execute_result"
    }
   ],
   "source": [
    "pd.__version__"
   ]
  },
  {
   "cell_type": "code",
   "execution_count": 3,
   "id": "5c6ad66e",
   "metadata": {},
   "outputs": [],
   "source": [
    "housing = pd.read_csv('housing.csv')"
   ]
  },
  {
   "cell_type": "markdown",
   "id": "ba6d7a7b",
   "metadata": {},
   "source": [
    "**Question 2**<br/>\n",
    "`How many columns are in the dataset?`"
   ]
  },
  {
   "cell_type": "code",
   "execution_count": 4,
   "id": "2e46c43d",
   "metadata": {},
   "outputs": [
    {
     "data": {
      "text/plain": [
       "10"
      ]
     },
     "execution_count": 4,
     "metadata": {},
     "output_type": "execute_result"
    }
   ],
   "source": [
    "housing.shape[1]"
   ]
  },
  {
   "cell_type": "markdown",
   "id": "925d9231",
   "metadata": {},
   "source": [
    "**Question 3**<br/>\n",
    "`Which columns in the dataset have missing values?`"
   ]
  },
  {
   "cell_type": "code",
   "execution_count": 5,
   "id": "134561b3",
   "metadata": {},
   "outputs": [
    {
     "data": {
      "text/plain": [
       "longitude               0\n",
       "latitude                0\n",
       "housing_median_age      0\n",
       "total_rooms             0\n",
       "total_bedrooms        207\n",
       "population              0\n",
       "households              0\n",
       "median_income           0\n",
       "median_house_value      0\n",
       "ocean_proximity         0\n",
       "dtype: int64"
      ]
     },
     "execution_count": 5,
     "metadata": {},
     "output_type": "execute_result"
    }
   ],
   "source": [
    "housing.isnull().sum()"
   ]
  },
  {
   "cell_type": "markdown",
   "id": "3cf93695",
   "metadata": {},
   "source": [
    "**Question 4**<br/>\n",
    "`How many unique values does the ocean_proximity column have?`"
   ]
  },
  {
   "cell_type": "code",
   "execution_count": 6,
   "id": "c9148fb0",
   "metadata": {},
   "outputs": [
    {
     "data": {
      "text/plain": [
       "5"
      ]
     },
     "execution_count": 6,
     "metadata": {},
     "output_type": "execute_result"
    }
   ],
   "source": [
    "housing.ocean_proximity.nunique()"
   ]
  },
  {
   "cell_type": "markdown",
   "id": "344ac473",
   "metadata": {},
   "source": [
    "**Question 5**<br/>\n",
    "`What's the average value of the median_house_value for the houses located near the bay?`"
   ]
  },
  {
   "cell_type": "code",
   "execution_count": 7,
   "id": "b03c4f62",
   "metadata": {},
   "outputs": [
    {
     "data": {
      "text/plain": [
       "259212.31179039303"
      ]
     },
     "execution_count": 7,
     "metadata": {},
     "output_type": "execute_result"
    }
   ],
   "source": [
    "housing[housing['ocean_proximity']=='NEAR BAY'].median_house_value.mean()"
   ]
  },
  {
   "cell_type": "markdown",
   "id": "765f2fd0",
   "metadata": {},
   "source": [
    "**Question 6**<br/>\n",
    "`Calculate the average of total_bedrooms column in the dataset.`"
   ]
  },
  {
   "cell_type": "code",
   "execution_count": 8,
   "id": "a9a45dc9",
   "metadata": {},
   "outputs": [],
   "source": [
    "avg_tot_bedrooms = housing.total_bedrooms.mean()"
   ]
  },
  {
   "cell_type": "markdown",
   "id": "22dfb35d",
   "metadata": {},
   "source": [
    "`Use the fillna method to fill the missing values in total_bedrooms with the mean value from the previous step.`"
   ]
  },
  {
   "cell_type": "code",
   "execution_count": 9,
   "id": "a38916f5",
   "metadata": {},
   "outputs": [],
   "source": [
    "housing_orig = housing.copy(deep=True)\n",
    "housing.total_bedrooms.fillna(avg_tot_bedrooms,inplace=True)"
   ]
  },
  {
   "cell_type": "markdown",
   "id": "543ae07e",
   "metadata": {},
   "source": [
    "`Now, calculate the average of total_bedrooms again.`"
   ]
  },
  {
   "cell_type": "code",
   "execution_count": 10,
   "id": "2aebf9c4",
   "metadata": {},
   "outputs": [],
   "source": [
    "avg_tot_bedrooms_upd = housing.total_bedrooms.mean()"
   ]
  },
  {
   "cell_type": "markdown",
   "id": "9174f7e0",
   "metadata": {},
   "source": [
    "`Has it changed?`"
   ]
  },
  {
   "cell_type": "code",
   "execution_count": 11,
   "id": "a1d2db44",
   "metadata": {},
   "outputs": [
    {
     "data": {
      "text/plain": [
       "537.871"
      ]
     },
     "execution_count": 11,
     "metadata": {},
     "output_type": "execute_result"
    }
   ],
   "source": [
    "round(avg_tot_bedrooms,3)"
   ]
  },
  {
   "cell_type": "code",
   "execution_count": 12,
   "id": "7677ff4e",
   "metadata": {},
   "outputs": [
    {
     "data": {
      "text/plain": [
       "537.871"
      ]
     },
     "execution_count": 12,
     "metadata": {},
     "output_type": "execute_result"
    }
   ],
   "source": [
    "round(avg_tot_bedrooms_upd,3)"
   ]
  },
  {
   "cell_type": "markdown",
   "id": "602855c7",
   "metadata": {},
   "source": [
    "**Question 7**<br/>\n",
    "- `Select all the options located on islands.`\n",
    "- `Select only columns housing_median_age, total_rooms, total_bedrooms.`\n",
    "- `Get the underlying NumPy array. Let's call it X.`\n",
    "- `Compute matrix-matrix multiplication between the transpose of X and X. To get the transpose, use X.T. Let's call the result XTX.`\n",
    "- `Compute the inverse of XTX.`\n",
    "- `Create an array y with values [950, 1300, 800, 1000, 1300].`\n",
    "- `Multiply the inverse of XTX with the transpose of X, and then multiply the result by y. Call the result w.`\n",
    "- `What's the value of the last element of w?`"
   ]
  },
  {
   "cell_type": "code",
   "execution_count": 13,
   "id": "c8c74bf0",
   "metadata": {},
   "outputs": [
    {
     "data": {
      "text/plain": [
       "5.699229455065578"
      ]
     },
     "execution_count": 13,
     "metadata": {},
     "output_type": "execute_result"
    }
   ],
   "source": [
    "island_housing = housing_orig[housing_orig['ocean_proximity']=='ISLAND']\n",
    "X = island_housing[['housing_median_age', 'total_rooms', 'total_bedrooms']].values\n",
    "X_transpose = X.T\n",
    "XTX = X_transpose @X\n",
    "XTX_inverse = np.linalg.inv(XTX)\n",
    "y = [950, 1300, 800, 1000, 1300]\n",
    "w = (XTX_inverse@X_transpose)@y\n",
    "w[-1]"
   ]
  },
  {
   "cell_type": "code",
   "execution_count": null,
   "id": "647de0c2",
   "metadata": {},
   "outputs": [],
   "source": []
  }
 ],
 "metadata": {
  "kernelspec": {
   "display_name": "Python 3 (ipykernel)",
   "language": "python",
   "name": "python3"
  },
  "language_info": {
   "codemirror_mode": {
    "name": "ipython",
    "version": 3
   },
   "file_extension": ".py",
   "mimetype": "text/x-python",
   "name": "python",
   "nbconvert_exporter": "python",
   "pygments_lexer": "ipython3",
   "version": "3.10.9"
  }
 },
 "nbformat": 4,
 "nbformat_minor": 5
}
