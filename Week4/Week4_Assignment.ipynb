{
 "cells": [
  {
   "cell_type": "code",
   "execution_count": 1,
   "id": "78eb22e3",
   "metadata": {},
   "outputs": [],
   "source": [
    "import pandas as pd\n",
    "import numpy as np\n",
    "import seaborn as sns\n",
    "import matplotlib.pyplot as plt\n",
    "from sklearn.model_selection import train_test_split\n",
    "from sklearn.metrics import roc_auc_score\n",
    "from sklearn.metrics import roc_curve\n",
    "from sklearn.feature_extraction import DictVectorizer\n",
    "from sklearn.linear_model import LogisticRegression\n",
    "from sklearn.model_selection import KFold\n",
    "%matplotlib inline"
   ]
  },
  {
   "cell_type": "code",
   "execution_count": 2,
   "id": "60aad3d0",
   "metadata": {},
   "outputs": [],
   "source": [
    "#!wget https://raw.githubusercontent.com/alexeygrigorev/mlbookcamp-code/master/chapter-02-car-price/data.csv"
   ]
  },
  {
   "cell_type": "markdown",
   "id": "5d9da55c",
   "metadata": {},
   "source": [
    "### Data Preparation ###"
   ]
  },
  {
   "cell_type": "code",
   "execution_count": 3,
   "id": "e7a8b27f",
   "metadata": {},
   "outputs": [],
   "source": [
    "data = pd.read_csv('data.csv')\n",
    "data = data[[\"Make\",\n",
    "\"Model\",\n",
    "\"Year\",\n",
    "\"Engine HP\",\n",
    "\"Engine Cylinders\",\n",
    "\"Transmission Type\",\n",
    "\"Vehicle Style\",\n",
    "\"highway MPG\",\n",
    "\"city mpg\",\"MSRP\"]]"
   ]
  },
  {
   "cell_type": "code",
   "execution_count": 4,
   "id": "4f43a086",
   "metadata": {},
   "outputs": [],
   "source": [
    "data.columns = data.columns.str.replace(' ', '_').str.lower()"
   ]
  },
  {
   "cell_type": "code",
   "execution_count": 5,
   "id": "a482b24c",
   "metadata": {},
   "outputs": [
    {
     "data": {
      "text/plain": [
       "make                  0\n",
       "model                 0\n",
       "year                  0\n",
       "engine_hp            69\n",
       "engine_cylinders     30\n",
       "transmission_type     0\n",
       "vehicle_style         0\n",
       "highway_mpg           0\n",
       "city_mpg              0\n",
       "msrp                  0\n",
       "dtype: int64"
      ]
     },
     "execution_count": 5,
     "metadata": {},
     "output_type": "execute_result"
    }
   ],
   "source": [
    "data.isna().sum()"
   ]
  },
  {
   "cell_type": "code",
   "execution_count": 6,
   "id": "28bafebf",
   "metadata": {},
   "outputs": [],
   "source": [
    "data.engine_hp.fillna(0,inplace=True)\n",
    "data.engine_cylinders.fillna(0,inplace=True)"
   ]
  },
  {
   "cell_type": "code",
   "execution_count": 7,
   "id": "81275c7c",
   "metadata": {},
   "outputs": [],
   "source": [
    "data.rename(columns={'msrp':'price'},inplace=True)"
   ]
  },
  {
   "cell_type": "code",
   "execution_count": 8,
   "id": "16ba767c",
   "metadata": {},
   "outputs": [],
   "source": [
    "mean_price = data['price'].mean()\n",
    "data['above_average'] = np.where(data['price'] > mean_price,1,0)"
   ]
  },
  {
   "cell_type": "code",
   "execution_count": 9,
   "id": "ba6b48c1",
   "metadata": {},
   "outputs": [],
   "source": [
    "data_backup = data.copy()\n",
    "data.drop('price',axis=1,inplace=True)\n",
    "X = data.iloc[:,:-1]\n",
    "y = data.iloc[:,-1]"
   ]
  },
  {
   "cell_type": "code",
   "execution_count": 10,
   "id": "b8e861ca",
   "metadata": {},
   "outputs": [],
   "source": [
    "from sklearn.model_selection import train_test_split\n",
    "X_full_train, X_test, y_full_train, y_test = train_test_split(X, y, test_size=0.2, random_state=1)\n",
    "X_train, X_val, y_train, y_val = train_test_split(X_full_train, y_full_train, test_size=0.2, random_state=1)"
   ]
  },
  {
   "cell_type": "markdown",
   "id": "5ff9412b",
   "metadata": {},
   "source": [
    "### Question 1: ROC AUC feature importance"
   ]
  },
  {
   "cell_type": "code",
   "execution_count": 11,
   "id": "0bd7b28e",
   "metadata": {},
   "outputs": [],
   "source": [
    "numerical_columns = list(X_train.select_dtypes(include=[np.number]).columns)\n",
    "categorical_columns = list(X_train.select_dtypes(exclude=[np.number]))"
   ]
  },
  {
   "cell_type": "code",
   "execution_count": 12,
   "id": "ed8e68f3",
   "metadata": {},
   "outputs": [
    {
     "data": {
      "text/plain": [
       "('engine_hp', 0.9162324220917971)"
      ]
     },
     "execution_count": 12,
     "metadata": {},
     "output_type": "execute_result"
    }
   ],
   "source": [
    "from operator import itemgetter\n",
    "auc_list = []\n",
    "for num in numerical_columns:\n",
    "    auc = roc_auc_score(y_train, X_train[num])\n",
    "    if auc < 0.5:\n",
    "        auc = roc_auc_score(y_train, -X_train[num])\n",
    "    auc_list.append((num,auc))\n",
    "max(auc_list, key = itemgetter(1))"
   ]
  },
  {
   "cell_type": "markdown",
   "id": "66e38e54",
   "metadata": {},
   "source": [
    "engine_hp has the highest AUC"
   ]
  },
  {
   "cell_type": "markdown",
   "id": "4c0389c6",
   "metadata": {},
   "source": [
    "### Question 2: Training the model"
   ]
  },
  {
   "cell_type": "code",
   "execution_count": 13,
   "id": "d54cb00b",
   "metadata": {},
   "outputs": [
    {
     "data": {
      "text/plain": [
       "0.978"
      ]
     },
     "execution_count": 13,
     "metadata": {},
     "output_type": "execute_result"
    }
   ],
   "source": [
    "train_dicts = X_train[list(X_train.columns)].to_dict(orient='records')\n",
    "dv = DictVectorizer(sparse=False)\n",
    "X_train_1 = dv.fit_transform(train_dicts)\n",
    "model = LogisticRegression(solver='liblinear', C=1.0, max_iter=1000)\n",
    "model.fit(X_train_1, y_train)\n",
    "val_dicts = X_val[list(X_val.columns)].to_dict(orient='records')\n",
    "X_val_1 = dv.transform(val_dicts)\n",
    "y_pred = model.predict_proba(X_val_1)[:, 1]\n",
    "round(roc_auc_score(y_val, y_pred),3)"
   ]
  },
  {
   "cell_type": "markdown",
   "id": "a2d9429f",
   "metadata": {},
   "source": [
    "AUC of this model on the validation dataset is ~0.979"
   ]
  },
  {
   "cell_type": "code",
   "execution_count": 14,
   "id": "65cfe898",
   "metadata": {},
   "outputs": [
    {
     "data": {
      "text/html": [
       "<div>\n",
       "<style scoped>\n",
       "    .dataframe tbody tr th:only-of-type {\n",
       "        vertical-align: middle;\n",
       "    }\n",
       "\n",
       "    .dataframe tbody tr th {\n",
       "        vertical-align: top;\n",
       "    }\n",
       "\n",
       "    .dataframe thead th {\n",
       "        text-align: right;\n",
       "    }\n",
       "</style>\n",
       "<table border=\"1\" class=\"dataframe\">\n",
       "  <thead>\n",
       "    <tr style=\"text-align: right;\">\n",
       "      <th></th>\n",
       "      <th>threshold</th>\n",
       "      <th>tp</th>\n",
       "      <th>fp</th>\n",
       "      <th>fn</th>\n",
       "      <th>tn</th>\n",
       "    </tr>\n",
       "  </thead>\n",
       "  <tbody>\n",
       "    <tr>\n",
       "      <th>0</th>\n",
       "      <td>0.00</td>\n",
       "      <td>527</td>\n",
       "      <td>1380</td>\n",
       "      <td>0</td>\n",
       "      <td>0</td>\n",
       "    </tr>\n",
       "    <tr>\n",
       "      <th>1</th>\n",
       "      <td>0.01</td>\n",
       "      <td>525</td>\n",
       "      <td>656</td>\n",
       "      <td>2</td>\n",
       "      <td>724</td>\n",
       "    </tr>\n",
       "    <tr>\n",
       "      <th>2</th>\n",
       "      <td>0.02</td>\n",
       "      <td>524</td>\n",
       "      <td>525</td>\n",
       "      <td>3</td>\n",
       "      <td>855</td>\n",
       "    </tr>\n",
       "    <tr>\n",
       "      <th>3</th>\n",
       "      <td>0.03</td>\n",
       "      <td>524</td>\n",
       "      <td>471</td>\n",
       "      <td>3</td>\n",
       "      <td>909</td>\n",
       "    </tr>\n",
       "    <tr>\n",
       "      <th>4</th>\n",
       "      <td>0.04</td>\n",
       "      <td>523</td>\n",
       "      <td>426</td>\n",
       "      <td>4</td>\n",
       "      <td>954</td>\n",
       "    </tr>\n",
       "  </tbody>\n",
       "</table>\n",
       "</div>"
      ],
      "text/plain": [
       "   threshold   tp    fp  fn   tn\n",
       "0       0.00  527  1380   0    0\n",
       "1       0.01  525   656   2  724\n",
       "2       0.02  524   525   3  855\n",
       "3       0.03  524   471   3  909\n",
       "4       0.04  523   426   4  954"
      ]
     },
     "execution_count": 14,
     "metadata": {},
     "output_type": "execute_result"
    }
   ],
   "source": [
    "def confusion_matrix(y_val, y_pred):\n",
    "    scores = []\n",
    "    thresholds = np.linspace(0, 1, 101)\n",
    "    for t in thresholds:\n",
    "        actual_positive = (y_val == 1)\n",
    "        actual_negative = (y_val == 0)\n",
    "\n",
    "        predict_positive = (y_pred >= t)\n",
    "        predict_negative = (y_pred < t)\n",
    "\n",
    "        tp = (predict_positive & actual_positive).sum()\n",
    "        tn = (predict_negative & actual_negative).sum()\n",
    "\n",
    "        fp = (predict_positive & actual_negative).sum()\n",
    "        fn = (predict_negative & actual_positive).sum()\n",
    "\n",
    "        scores.append((t, tp, fp, fn, tn))\n",
    "\n",
    "    columns = ['threshold', 'tp', 'fp', 'fn', 'tn']\n",
    "    df_scores = pd.DataFrame(scores, columns=columns)\n",
    "    return df_scores\n",
    "\n",
    "df_scores = confusion_matrix(y_val, y_pred)\n",
    "df_scores.head()"
   ]
  },
  {
   "cell_type": "code",
   "execution_count": 15,
   "id": "16881399",
   "metadata": {},
   "outputs": [
    {
     "data": {
      "image/png": "[encoded data removed]",
      "text/plain": [
       "<Figure size 640x480 with 1 Axes>"
      ]
     },
     "metadata": {},
     "output_type": "display_data"
    }
   ],
   "source": [
    "df_scores['p'] = df_scores.tp / (df_scores.tp + df_scores.fp)\n",
    "df_scores['r'] = df_scores.tp / (df_scores.tp + df_scores.fn)\n",
    "plt.plot(df_scores.threshold, df_scores.p, label='precision')\n",
    "plt.plot(df_scores.threshold, df_scores.r, label='recall')\n",
    "plt.legend()\n",
    "plt.show()"
   ]
  },
  {
   "cell_type": "code",
   "execution_count": 16,
   "id": "fe970440",
   "metadata": {},
   "outputs": [
    {
     "data": {
      "text/html": [
       "<div>\n",
       "<style scoped>\n",
       "    .dataframe tbody tr th:only-of-type {\n",
       "        vertical-align: middle;\n",
       "    }\n",
       "\n",
       "    .dataframe tbody tr th {\n",
       "        vertical-align: top;\n",
       "    }\n",
       "\n",
       "    .dataframe thead th {\n",
       "        text-align: right;\n",
       "    }\n",
       "</style>\n",
       "<table border=\"1\" class=\"dataframe\">\n",
       "  <thead>\n",
       "    <tr style=\"text-align: right;\">\n",
       "      <th></th>\n",
       "      <th>threshold</th>\n",
       "      <th>tp</th>\n",
       "      <th>fp</th>\n",
       "      <th>fn</th>\n",
       "      <th>tn</th>\n",
       "      <th>p</th>\n",
       "      <th>r</th>\n",
       "    </tr>\n",
       "  </thead>\n",
       "  <tbody>\n",
       "    <tr>\n",
       "      <th>47</th>\n",
       "      <td>0.47</td>\n",
       "      <td>467</td>\n",
       "      <td>63</td>\n",
       "      <td>60</td>\n",
       "      <td>1317</td>\n",
       "      <td>0.881132</td>\n",
       "      <td>0.886148</td>\n",
       "    </tr>\n",
       "    <tr>\n",
       "      <th>48</th>\n",
       "      <td>0.48</td>\n",
       "      <td>466</td>\n",
       "      <td>62</td>\n",
       "      <td>61</td>\n",
       "      <td>1318</td>\n",
       "      <td>0.882576</td>\n",
       "      <td>0.884250</td>\n",
       "    </tr>\n",
       "    <tr>\n",
       "      <th>49</th>\n",
       "      <td>0.49</td>\n",
       "      <td>464</td>\n",
       "      <td>62</td>\n",
       "      <td>63</td>\n",
       "      <td>1318</td>\n",
       "      <td>0.882129</td>\n",
       "      <td>0.880455</td>\n",
       "    </tr>\n",
       "    <tr>\n",
       "      <th>50</th>\n",
       "      <td>0.50</td>\n",
       "      <td>464</td>\n",
       "      <td>62</td>\n",
       "      <td>63</td>\n",
       "      <td>1318</td>\n",
       "      <td>0.882129</td>\n",
       "      <td>0.880455</td>\n",
       "    </tr>\n",
       "    <tr>\n",
       "      <th>51</th>\n",
       "      <td>0.51</td>\n",
       "      <td>462</td>\n",
       "      <td>60</td>\n",
       "      <td>65</td>\n",
       "      <td>1320</td>\n",
       "      <td>0.885057</td>\n",
       "      <td>0.876660</td>\n",
       "    </tr>\n",
       "  </tbody>\n",
       "</table>\n",
       "</div>"
      ],
      "text/plain": [
       "    threshold   tp  fp  fn    tn         p         r\n",
       "47       0.47  467  63  60  1317  0.881132  0.886148\n",
       "48       0.48  466  62  61  1318  0.882576  0.884250\n",
       "49       0.49  464  62  63  1318  0.882129  0.880455\n",
       "50       0.50  464  62  63  1318  0.882129  0.880455\n",
       "51       0.51  462  60  65  1320  0.885057  0.876660"
      ]
     },
     "execution_count": 16,
     "metadata": {},
     "output_type": "execute_result"
    }
   ],
   "source": [
    "df_scores[abs(df_scores.p - df_scores.r) < 0.01]"
   ]
  },
  {
   "cell_type": "markdown",
   "id": "e30b1d75",
   "metadata": {},
   "source": [
    "At threshold 0.48 precision and recall curves intersect"
   ]
  },
  {
   "cell_type": "markdown",
   "id": "9680faac",
   "metadata": {},
   "source": [
    "### Question 4: F1 score"
   ]
  },
  {
   "cell_type": "code",
   "execution_count": 17,
   "id": "8cad120b",
   "metadata": {},
   "outputs": [
    {
     "data": {
      "image/png": "[encoded data removed]",
      "text/plain": [
       "<Figure size 640x480 with 1 Axes>"
      ]
     },
     "metadata": {},
     "output_type": "display_data"
    }
   ],
   "source": [
    "df_scores['f1'] = (2 * df_scores.p * df_scores.r) / (df_scores.p + df_scores.r)\n",
    "plt.plot(df_scores.threshold, df_scores.f1)\n",
    "plt.xticks(np.linspace(0, 1, 101))\n",
    "plt.show()"
   ]
  },
  {
   "cell_type": "code",
   "execution_count": 18,
   "id": "d76bf068",
   "metadata": {},
   "outputs": [
    {
     "data": {
      "text/plain": [
       "46    0.46\n",
       "Name: threshold, dtype: float64"
      ]
     },
     "execution_count": 18,
     "metadata": {},
     "output_type": "execute_result"
    }
   ],
   "source": [
    "df_scores[df_scores['f1']==df_scores['f1'].max()].threshold"
   ]
  },
  {
   "cell_type": "code",
   "execution_count": 19,
   "id": "1ed2b2b3",
   "metadata": {},
   "outputs": [
    {
     "data": {
      "text/plain": [
       "32    0.864241\n",
       "Name: f1, dtype: float64"
      ]
     },
     "execution_count": 19,
     "metadata": {},
     "output_type": "execute_result"
    }
   ],
   "source": [
    "df_scores[df_scores['threshold']==0.32].f1"
   ]
  },
  {
   "cell_type": "code",
   "execution_count": 20,
   "id": "591e975e",
   "metadata": {},
   "outputs": [
    {
     "data": {
      "text/plain": [
       "46    0.888263\n",
       "Name: f1, dtype: float64"
      ]
     },
     "execution_count": 20,
     "metadata": {},
     "output_type": "execute_result"
    }
   ],
   "source": [
    "df_scores[df_scores['threshold']==0.46].f1"
   ]
  },
  {
   "cell_type": "code",
   "execution_count": 21,
   "id": "d65b391a",
   "metadata": {},
   "outputs": [
    {
     "data": {
      "text/plain": [
       "52    0.877629\n",
       "Name: f1, dtype: float64"
      ]
     },
     "execution_count": 21,
     "metadata": {},
     "output_type": "execute_result"
    }
   ],
   "source": [
    "df_scores[df_scores['threshold']==0.52].f1"
   ]
  },
  {
   "cell_type": "code",
   "execution_count": 22,
   "id": "f2c5aa04",
   "metadata": {},
   "outputs": [
    {
     "data": {
      "text/plain": [
       "12    0.802806\n",
       "Name: f1, dtype: float64"
      ]
     },
     "execution_count": 22,
     "metadata": {},
     "output_type": "execute_result"
    }
   ],
   "source": [
    "df_scores[df_scores['threshold']==0.12].f1"
   ]
  },
  {
   "cell_type": "code",
   "execution_count": 23,
   "id": "e0e2ce41",
   "metadata": {},
   "outputs": [
    {
     "data": {
      "text/plain": [
       "72    0.834931\n",
       "Name: f1, dtype: float64"
      ]
     },
     "execution_count": 23,
     "metadata": {},
     "output_type": "execute_result"
    }
   ],
   "source": [
    "df_scores[df_scores['threshold']==0.72].f1"
   ]
  },
  {
   "cell_type": "markdown",
   "id": "5bfdab40",
   "metadata": {},
   "source": [
    "f1 score coming maximum at 0.46 and maximal at 0.52"
   ]
  },
  {
   "cell_type": "markdown",
   "id": "73d8ac26",
   "metadata": {},
   "source": [
    "### Question 5: 5-Fold CV"
   ]
  },
  {
   "cell_type": "code",
   "execution_count": 24,
   "id": "a8f21116",
   "metadata": {},
   "outputs": [],
   "source": [
    "def train(df_train, y_train, C=1.0):\n",
    "    dicts = df_train[list(df_train.columns)].to_dict(orient='records')\n",
    "\n",
    "    dv = DictVectorizer(sparse=False)\n",
    "    X_train = dv.fit_transform(dicts)\n",
    "\n",
    "    model = LogisticRegression(solver='liblinear',C=C,max_iter=1000)\n",
    "    model.fit(X_train, y_train)\n",
    "\n",
    "    return dv, model\n",
    "\n",
    "def predict(df, dv, model):\n",
    "    dicts = df[list(df.columns)].to_dict(orient='records')\n",
    "\n",
    "    X = dv.transform(dicts)\n",
    "    y_pred = model.predict_proba(X)[:, 1]\n",
    "\n",
    "    return y_pred"
   ]
  },
  {
   "cell_type": "code",
   "execution_count": 25,
   "id": "b8bdee39",
   "metadata": {},
   "outputs": [],
   "source": [
    "df_full_train = X_full_train.copy().reset_index(drop=True)"
   ]
  },
  {
   "cell_type": "code",
   "execution_count": 26,
   "id": "07a6c337",
   "metadata": {},
   "outputs": [],
   "source": [
    "y_full_train.reset_index(drop=True,inplace=True)"
   ]
  },
  {
   "cell_type": "code",
   "execution_count": 27,
   "id": "096a6d7e",
   "metadata": {},
   "outputs": [],
   "source": [
    "df_full_train['above_average'] = y_full_train"
   ]
  },
  {
   "cell_type": "code",
   "execution_count": 28,
   "id": "527c05a8",
   "metadata": {},
   "outputs": [
    {
     "data": {
      "text/plain": [
       "0       1\n",
       "1       0\n",
       "2       0\n",
       "3       1\n",
       "4       0\n",
       "       ..\n",
       "9526    1\n",
       "9527    1\n",
       "9528    0\n",
       "9529    0\n",
       "9530    0\n",
       "Name: above_average, Length: 9531, dtype: int32"
      ]
     },
     "execution_count": 28,
     "metadata": {},
     "output_type": "execute_result"
    }
   ],
   "source": [
    "df_full_train['above_average']"
   ]
  },
  {
   "cell_type": "code",
   "execution_count": 29,
   "id": "6a58afd5",
   "metadata": {},
   "outputs": [
    {
     "name": "stdout",
     "output_type": "stream",
     "text": [
      "1.0 0.0\n"
     ]
    }
   ],
   "source": [
    "scores = []\n",
    "kfold = KFold(n_splits=5, shuffle=True, random_state=1)\n",
    "#df_full_train = pd.concat([X_full_train,y_full_train],axis=0)\n",
    "for train_idx, val_idx in kfold.split(df_full_train):\n",
    "    df_train = df_full_train.iloc[train_idx]\n",
    "    df_val = df_full_train.iloc[val_idx]\n",
    "    y_train = df_train.above_average\n",
    "    y_val = df_val.above_average\n",
    "    dv, model = train(df_train, y_train, C=1.0)\n",
    "    y_pred = predict(df_val, dv, model)\n",
    "    auc = roc_auc_score(y_val, y_pred)\n",
    "    scores.append(auc)\n",
    "\n",
    "print(round(np.mean(scores),3), round(np.std(scores),3))"
   ]
  },
  {
   "cell_type": "markdown",
   "id": "0ff848d8",
   "metadata": {},
   "source": [
    "Standard Deviation is coming close to option 0.003"
   ]
  },
  {
   "cell_type": "markdown",
   "id": "51c4cffd",
   "metadata": {},
   "source": [
    "### Question 6: Hyperparemeter Tuning"
   ]
  },
  {
   "cell_type": "code",
   "execution_count": 30,
   "id": "d59031e0",
   "metadata": {},
   "outputs": [
    {
     "name": "stdout",
     "output_type": "stream",
     "text": [
      "The score for C value 0.01\n",
      "0.997 0.001\n",
      "The score for C value 0.1\n",
      "1.0 0.0\n",
      "The score for C value 0.5\n",
      "1.0 0.0\n",
      "The score for C value 10\n",
      "1.0 0.0\n"
     ]
    }
   ],
   "source": [
    "for C in [0.01, 0.1, 0.5, 10]:\n",
    "    scores = []\n",
    "    kfold = KFold(n_splits=5, shuffle=True, random_state=1)\n",
    "    #df_full_train = pd.concat([X_full_train,y_full_train],axis=0)\n",
    "    for train_idx, val_idx in kfold.split(df_full_train):\n",
    "        df_train = df_full_train.iloc[train_idx]\n",
    "        df_val = df_full_train.iloc[val_idx]\n",
    "        y_train = df_train.above_average\n",
    "        y_val = df_val.above_average\n",
    "        dv, model = train(df_train, y_train, C=C)\n",
    "        y_pred = predict(df_val, dv, model)\n",
    "        auc = roc_auc_score(y_val, y_pred)\n",
    "        scores.append(auc)\n",
    "    print(f'The score for C value {C}')\n",
    "    print(round(np.mean(scores),3), round(np.std(scores),3))"
   ]
  },
  {
   "cell_type": "markdown",
   "id": "964c0c1d",
   "metadata": {},
   "source": [
    "The value of C with the best mean score is 0.1"
   ]
  }
 ],
 "metadata": {
  "kernelspec": {
   "display_name": "Python 3 (ipykernel)",
   "language": "python",
   "name": "python3"
  },
  "language_info": {
   "codemirror_mode": {
    "name": "ipython",
    "version": 3
   },
   "file_extension": ".py",
   "mimetype": "text/x-python",
   "name": "python",
   "nbconvert_exporter": "python",
   "pygments_lexer": "ipython3",
   "version": "3.10.9"
  }
 },
 "nbformat": 4,
 "nbformat_minor": 5
}
