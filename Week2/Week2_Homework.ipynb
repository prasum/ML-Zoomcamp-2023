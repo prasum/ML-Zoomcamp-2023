{
 "cells": [
  {
   "cell_type": "markdown",
   "id": "664e7188",
   "metadata": {},
   "source": [
    "### Dataset"
   ]
  },
  {
   "cell_type": "code",
   "execution_count": 1,
   "id": "a6bdbe87",
   "metadata": {},
   "outputs": [
    {
     "name": "stderr",
     "output_type": "stream",
     "text": [
      "--2023-09-17 23:10:55--  https://raw.githubusercontent.com/alexeygrigorev/datasets/master/housing.csv\n",
      "Resolving raw.githubusercontent.com (raw.githubusercontent.com)... 2606:50c0:8001::154, 2606:50c0:8002::154, 2606:50c0:8003::154, ...\n",
      "Connecting to raw.githubusercontent.com (raw.githubusercontent.com)|2606:50c0:8001::154|:443... connected.\n",
      "HTTP request sent, awaiting response... 200 OK\n",
      "Length: 1423529 (1.4M) [text/plain]\n",
      "Saving to: 'housing.csv.3'\n",
      "\n",
      "     0K .......... .......... .......... .......... ..........  3% 1.02M 1s\n",
      "    50K .......... .......... .......... .......... ..........  7% 1.93M 1s\n",
      "   100K .......... .......... .......... .......... .......... 10% 1.66M 1s\n",
      "   150K .......... .......... .......... .......... .......... 14% 3.64M 1s\n",
      "   200K .......... .......... .......... .......... .......... 17% 1.58M 1s\n",
      "   250K .......... .......... .......... .......... .......... 21% 2.21M 1s\n",
      "   300K .......... .......... .......... .......... .......... 25% 2.88M 1s\n",
      "   350K .......... .......... .......... .......... .......... 28% 2.36M 1s\n",
      "   400K .......... .......... .......... .......... .......... 32% 2.02M 0s\n",
      "   450K .......... .......... .......... .......... .......... 35% 2.76M 0s\n",
      "   500K .......... .......... .......... .......... .......... 39% 3.19M 0s\n",
      "   550K .......... .......... .......... .......... .......... 43% 2.90M 0s\n",
      "   600K .......... .......... .......... .......... .......... 46% 3.49M 0s\n",
      "   650K .......... .......... .......... .......... .......... 50% 2.04M 0s\n",
      "   700K .......... .......... .......... .......... .......... 53% 3.79M 0s\n",
      "   750K .......... .......... .......... .......... .......... 57% 2.76M 0s\n",
      "   800K .......... .......... .......... .......... .......... 61% 3.28M 0s\n",
      "   850K .......... .......... .......... .......... .......... 64% 3.18M 0s\n",
      "   900K .......... .......... .......... .......... .......... 68% 3.86M 0s\n",
      "   950K .......... .......... .......... .......... .......... 71% 3.14M 0s\n",
      "  1000K .......... .......... .......... .......... .......... 75% 3.31M 0s\n",
      "  1050K .......... .......... .......... .......... .......... 79% 2.41M 0s\n",
      "  1100K .......... .......... .......... .......... .......... 82% 4.26M 0s\n",
      "  1150K .......... .......... .......... .......... .......... 86% 3.12M 0s\n",
      "  1200K .......... .......... .......... .......... .......... 89% 2.73M 0s\n",
      "  1250K .......... .......... .......... .......... .......... 93% 2.60M 0s\n",
      "  1300K .......... .......... .......... .......... .......... 97% 3.05M 0s\n",
      "  1350K .......... .......... .......... ..........           100% 9.77M=0.5s\n",
      "\n",
      "2023-09-17 23:10:56 (2.58 MB/s) - 'housing.csv.3' saved [1423529/1423529]\n",
      "\n"
     ]
    }
   ],
   "source": [
    "#! ..\\wget https://raw.githubusercontent.com/alexeygrigorev/datasets/master/housing.csv"
   ]
  },
  {
   "cell_type": "markdown",
   "id": "62f24324",
   "metadata": {},
   "source": [
    "### EDA"
   ]
  },
  {
   "cell_type": "code",
   "execution_count": 2,
   "id": "f17a39ea",
   "metadata": {},
   "outputs": [],
   "source": [
    "import pandas as pd\n",
    "housing_df = pd.read_csv('housing.csv')"
   ]
  },
  {
   "cell_type": "code",
   "execution_count": 3,
   "id": "7cdb4693",
   "metadata": {},
   "outputs": [
    {
     "data": {
      "text/plain": [
       "<Axes: ylabel='Density'>"
      ]
     },
     "execution_count": 3,
     "metadata": {},
     "output_type": "execute_result"
    },
    {
     "data": {
      "image/png": "[encoded data removed]",
      "text/plain": [
       "<Figure size 640x480 with 1 Axes>"
      ]
     },
     "metadata": {},
     "output_type": "display_data"
    }
   ],
   "source": [
    "housing_df.median_house_value.plot.kde()"
   ]
  },
  {
   "cell_type": "markdown",
   "id": "e289928d",
   "metadata": {},
   "source": [
    "From the above kde plot we can infer that the distribution is not fat tailed but long tailed"
   ]
  },
  {
   "cell_type": "markdown",
   "id": "5e8a7058",
   "metadata": {},
   "source": [
    "### Preparing the dataset"
   ]
  },
  {
   "cell_type": "code",
   "execution_count": 4,
   "id": "ae0d79c3",
   "metadata": {},
   "outputs": [],
   "source": [
    "housing_df_select = housing_df[(housing_df.ocean_proximity == '<1H OCEAN') | (housing_df.ocean_proximity == 'INLAND')]"
   ]
  },
  {
   "cell_type": "code",
   "execution_count": 5,
   "id": "0a9517e9",
   "metadata": {},
   "outputs": [],
   "source": [
    "housing_df_select = housing_df_select[['latitude',\n",
    "'longitude',\n",
    "'housing_median_age',\n",
    "'total_rooms',\n",
    "'total_bedrooms',\n",
    "'population',\n",
    "'households',\n",
    "'median_income',\n",
    "'median_house_value']]"
   ]
  },
  {
   "cell_type": "markdown",
   "id": "1682a3f3",
   "metadata": {},
   "source": [
    "### Question 1\n",
    "`There's one feature with missing values. What is it?`"
   ]
  },
  {
   "cell_type": "code",
   "execution_count": 6,
   "id": "eade4de3",
   "metadata": {},
   "outputs": [
    {
     "data": {
      "text/plain": [
       "latitude                0\n",
       "longitude               0\n",
       "housing_median_age      0\n",
       "total_rooms             0\n",
       "total_bedrooms        157\n",
       "population              0\n",
       "households              0\n",
       "median_income           0\n",
       "median_house_value      0\n",
       "dtype: int64"
      ]
     },
     "execution_count": 6,
     "metadata": {},
     "output_type": "execute_result"
    }
   ],
   "source": [
    "housing_df_select.isna().sum()"
   ]
  },
  {
   "cell_type": "markdown",
   "id": "5122246f",
   "metadata": {},
   "source": [
    "total_bedrooms feature has missing values"
   ]
  },
  {
   "cell_type": "markdown",
   "id": "c09251ef",
   "metadata": {},
   "source": [
    "### Question 2\n",
    "`What's the median (50% percentile) for variable 'population'?`"
   ]
  },
  {
   "cell_type": "code",
   "execution_count": 7,
   "id": "f57de8e9",
   "metadata": {},
   "outputs": [
    {
     "data": {
      "text/plain": [
       "1195.0"
      ]
     },
     "execution_count": 7,
     "metadata": {},
     "output_type": "execute_result"
    }
   ],
   "source": [
    "housing_df_select.population.quantile(0.5)"
   ]
  },
  {
   "cell_type": "code",
   "execution_count": 8,
   "id": "b0db9253",
   "metadata": {},
   "outputs": [
    {
     "data": {
      "text/plain": [
       "1195.0"
      ]
     },
     "execution_count": 8,
     "metadata": {},
     "output_type": "execute_result"
    }
   ],
   "source": [
    "housing_df_select.population.median()"
   ]
  },
  {
   "cell_type": "markdown",
   "id": "ce04cdcd",
   "metadata": {},
   "source": [
    "The median value is 1195"
   ]
  },
  {
   "cell_type": "markdown",
   "id": "5e09e284",
   "metadata": {},
   "source": [
    "### Prepare and split the dataset"
   ]
  },
  {
   "cell_type": "code",
   "execution_count": 9,
   "id": "388c3d79",
   "metadata": {},
   "outputs": [],
   "source": [
    "from sklearn.model_selection import train_test_split\n",
    "housing_df_select_shuffled = housing_df_select.sample(frac = 1,random_state=42)\n",
    "X = housing_df_select_shuffled.iloc[:,:-1]\n",
    "y = housing_df_select_shuffled.iloc[:,-1]\n",
    "X_train, X_test, y_train, y_test = train_test_split(X, y, test_size=0.2, shuffle=False)\n",
    "X_train, X_val, y_train, y_val = train_test_split(X_train, y_train, test_size=0.2, shuffle=False)"
   ]
  },
  {
   "cell_type": "code",
   "execution_count": 10,
   "id": "49109b2f",
   "metadata": {},
   "outputs": [],
   "source": [
    "import numpy as np\n",
    "y_train = y_train.apply(lambda x: np.log1p(x))\n",
    "y_val = y_val.apply(lambda x: np.log1p(x))\n",
    "y_test = y_test.apply(lambda x: np.log1p(x))"
   ]
  },
  {
   "cell_type": "code",
   "execution_count": 11,
   "id": "e6173149",
   "metadata": {},
   "outputs": [],
   "source": [
    "def train_linear_regression(X, y):\n",
    "    ones = np.ones(X.shape[0])\n",
    "    X = np.column_stack([ones, X])\n",
    "    XTX = X.T.dot(X)\n",
    "    XTX_inv = np.linalg.inv(XTX)\n",
    "    w = XTX_inv.dot(X.T).dot(y)\n",
    "    \n",
    "    return w[0], w[1:]"
   ]
  },
  {
   "cell_type": "code",
   "execution_count": 12,
   "id": "2faf3576",
   "metadata": {},
   "outputs": [],
   "source": [
    "def rmse(y, y_pred):\n",
    "    error = y_pred - y\n",
    "    mse = (error ** 2).mean()\n",
    "    return np.sqrt(mse)"
   ]
  },
  {
   "cell_type": "code",
   "execution_count": 13,
   "id": "3a9e0fa7",
   "metadata": {},
   "outputs": [],
   "source": [
    "def train_linear_regression_reg(X, y, r=0.0):\n",
    "    ones = np.ones(X.shape[0])\n",
    "    X = np.column_stack([ones, X])\n",
    "    XTX = X.T.dot(X)\n",
    "    reg = r * np.eye(XTX.shape[0])\n",
    "    XTX = XTX + reg\n",
    "    XTX_inv = np.linalg.inv(XTX)\n",
    "    w = XTX_inv.dot(X.T).dot(y)\n",
    "    return w[0], w[1:]"
   ]
  },
  {
   "cell_type": "markdown",
   "id": "50f9e42a",
   "metadata": {},
   "source": [
    "### Question 3"
   ]
  },
  {
   "cell_type": "markdown",
   "id": "9b26af73",
   "metadata": {},
   "source": [
    "Fill missing values with 0"
   ]
  },
  {
   "cell_type": "code",
   "execution_count": 14,
   "id": "b925e404",
   "metadata": {},
   "outputs": [],
   "source": [
    "X_null_train = X_train.copy()\n",
    "X_null_val = X_val.copy()"
   ]
  },
  {
   "cell_type": "code",
   "execution_count": 15,
   "id": "b13d2ab3",
   "metadata": {},
   "outputs": [
    {
     "data": {
      "text/plain": [
       "latitude               0\n",
       "longitude              0\n",
       "housing_median_age     0\n",
       "total_rooms            0\n",
       "total_bedrooms        98\n",
       "population             0\n",
       "households             0\n",
       "median_income          0\n",
       "dtype: int64"
      ]
     },
     "execution_count": 15,
     "metadata": {},
     "output_type": "execute_result"
    }
   ],
   "source": [
    "X_train.isna().sum()"
   ]
  },
  {
   "cell_type": "code",
   "execution_count": 16,
   "id": "280dfee6",
   "metadata": {},
   "outputs": [],
   "source": [
    "X_null_train.total_bedrooms.fillna(0,inplace=True)"
   ]
  },
  {
   "cell_type": "code",
   "execution_count": 17,
   "id": "27862430",
   "metadata": {},
   "outputs": [],
   "source": [
    "X_null_val.total_bedrooms.fillna(0,inplace=True)"
   ]
  },
  {
   "cell_type": "code",
   "execution_count": 18,
   "id": "b0bbc401",
   "metadata": {},
   "outputs": [],
   "source": [
    "w_0_null, w_null = train_linear_regression(X_null_train.values, y_train.to_numpy())"
   ]
  },
  {
   "cell_type": "code",
   "execution_count": 19,
   "id": "99933f3c",
   "metadata": {},
   "outputs": [],
   "source": [
    "y_null_pred_val = w_0_null + X_null_val.values.dot(w_null)"
   ]
  },
  {
   "cell_type": "code",
   "execution_count": 20,
   "id": "b075c6f7",
   "metadata": {},
   "outputs": [
    {
     "data": {
      "text/plain": [
       "0.34"
      ]
     },
     "execution_count": 20,
     "metadata": {},
     "output_type": "execute_result"
    }
   ],
   "source": [
    "np.round(rmse(y_val.to_numpy(), y_null_pred_val),2)"
   ]
  },
  {
   "cell_type": "markdown",
   "id": "630dcfc3",
   "metadata": {},
   "source": [
    "Fill missing values with mean"
   ]
  },
  {
   "cell_type": "code",
   "execution_count": 21,
   "id": "9dfcb7d2",
   "metadata": {},
   "outputs": [],
   "source": [
    "col_mean = X_train.total_bedrooms.mean()\n",
    "X_mean_train = X_train.copy()\n",
    "X_mean_val = X_val.copy()\n",
    "X_mean_train.total_bedrooms.fillna(col_mean,inplace=True)\n",
    "X_mean_val.total_bedrooms.fillna(col_mean,inplace=True)"
   ]
  },
  {
   "cell_type": "code",
   "execution_count": 22,
   "id": "0347ac98",
   "metadata": {},
   "outputs": [],
   "source": [
    "w_0_mean, w_mean = train_linear_regression(X_mean_train.values, y_train.to_numpy())"
   ]
  },
  {
   "cell_type": "code",
   "execution_count": 23,
   "id": "14095681",
   "metadata": {},
   "outputs": [],
   "source": [
    "y_mean_pred_val = w_0_mean + X_mean_val.values.dot(w_mean)"
   ]
  },
  {
   "cell_type": "code",
   "execution_count": 24,
   "id": "5e34c723",
   "metadata": {},
   "outputs": [
    {
     "data": {
      "text/plain": [
       "0.34"
      ]
     },
     "execution_count": 24,
     "metadata": {},
     "output_type": "execute_result"
    }
   ],
   "source": [
    "np.round(rmse(y_val.to_numpy(), y_mean_pred_val),2)"
   ]
  },
  {
   "cell_type": "markdown",
   "id": "0074996f",
   "metadata": {},
   "source": [
    "Both the missing value imputations are equally good"
   ]
  },
  {
   "cell_type": "markdown",
   "id": "968ff737",
   "metadata": {},
   "source": [
    "### Question 4"
   ]
  },
  {
   "cell_type": "code",
   "execution_count": 25,
   "id": "4551374d",
   "metadata": {},
   "outputs": [],
   "source": [
    "rmse_list=[]\n",
    "r_list = [0, 0.000001, 0.0001, 0.001, 0.01, 0.1, 1, 5, 10]\n",
    "for r in r_list:\n",
    "    w_0, w = train_linear_regression_reg(X_null_train.values, y_train.to_numpy(), r=r)\n",
    "    y_null_reg_val = w_0 + X_null_val.values.dot(w)\n",
    "    rmse_val = np.round(rmse(y_val.to_numpy(), y_null_reg_val),2)\n",
    "    rmse_list.append(rmse_val)"
   ]
  },
  {
   "cell_type": "code",
   "execution_count": 26,
   "id": "0a0bcb45",
   "metadata": {},
   "outputs": [
    {
     "data": {
      "text/plain": [
       "[0.34, 0.34, 0.34, 0.34, 0.34, 0.34, 0.35, 0.35, 0.35]"
      ]
     },
     "execution_count": 26,
     "metadata": {},
     "output_type": "execute_result"
    }
   ],
   "source": [
    "rmse_list"
   ]
  },
  {
   "cell_type": "markdown",
   "id": "b92fc37f",
   "metadata": {},
   "source": [
    "Thus minimum r value is 0"
   ]
  },
  {
   "cell_type": "markdown",
   "id": "908de028",
   "metadata": {},
   "source": [
    "### Question 5"
   ]
  },
  {
   "cell_type": "code",
   "execution_count": 27,
   "id": "9b79eaf1",
   "metadata": {},
   "outputs": [],
   "source": [
    "rmse_list=[]\n",
    "seeds = [0, 1, 2, 3, 4, 5, 6, 7, 8, 9]\n",
    "for seed in seeds:\n",
    "    housing_df_select_shuffled = housing_df_select.sample(frac = 1,random_state=seed)\n",
    "    X = housing_df_select_shuffled.iloc[:,:-1]\n",
    "    y = housing_df_select_shuffled.iloc[:,-1]\n",
    "    X_train, X_test, y_train, y_test = train_test_split(X, y, test_size=0.2, shuffle=False)\n",
    "    X_train, X_val, y_train, y_val = train_test_split(X_train, y_train, test_size=0.2, shuffle=False)\n",
    "    y_train = y_train.apply(lambda x: np.log1p(x))\n",
    "    y_val = y_val.apply(lambda x: np.log1p(x))\n",
    "    y_test = y_test.apply(lambda x: np.log1p(x))\n",
    "    X_null_train = X_train.copy()\n",
    "    X_null_val = X_val.copy()\n",
    "    X_null_train.total_bedrooms.fillna(0,inplace=True)\n",
    "    X_null_val.total_bedrooms.fillna(0,inplace=True)\n",
    "    w_0_null, w_null = train_linear_regression(X_null_train.values, y_train.to_numpy())\n",
    "    y_null_pred_val = w_0_null + X_null_val.values.dot(w_null)\n",
    "    rmse_list.append(np.round(rmse(y_val.to_numpy(), y_null_pred_val),2))"
   ]
  },
  {
   "cell_type": "code",
   "execution_count": 28,
   "id": "ac6f3a4d",
   "metadata": {},
   "outputs": [
    {
     "data": {
      "text/plain": [
       "0.007"
      ]
     },
     "execution_count": 28,
     "metadata": {},
     "output_type": "execute_result"
    }
   ],
   "source": [
    "np.round(np.std(rmse_list),3)"
   ]
  },
  {
   "cell_type": "markdown",
   "id": "ceacfd5b",
   "metadata": {},
   "source": [
    "### Question 6"
   ]
  },
  {
   "cell_type": "code",
   "execution_count": 29,
   "id": "d6547a83",
   "metadata": {},
   "outputs": [
    {
     "data": {
      "text/plain": [
       "0.33"
      ]
     },
     "execution_count": 29,
     "metadata": {},
     "output_type": "execute_result"
    }
   ],
   "source": [
    "housing_df_select_shuffled = housing_df_select.sample(frac = 1,random_state=9)\n",
    "X = housing_df_select_shuffled.iloc[:,:-1]\n",
    "y = housing_df_select_shuffled.iloc[:,-1]\n",
    "X_train, X_test, y_train, y_test = train_test_split(X, y, test_size=0.2, shuffle=False)\n",
    "y_train = y_train.apply(lambda x: np.log1p(x))\n",
    "y_test = y_test.apply(lambda x: np.log1p(x))\n",
    "X_null_train = X_train.copy()\n",
    "X_null_test = X_test.copy()\n",
    "X_null_train.total_bedrooms.fillna(0,inplace=True)\n",
    "X_null_test.total_bedrooms.fillna(0,inplace=True)\n",
    "w_0, w = train_linear_regression_reg(X_null_train.values, y_train.to_numpy(), r=0.001)\n",
    "y_null_reg_test = w_0 + X_null_test.values.dot(w)\n",
    "rmse_val = np.round(rmse(y_test.to_numpy(), y_null_reg_test),2)\n",
    "rmse_val"
   ]
  },
  {
   "cell_type": "code",
   "execution_count": null,
   "id": "1f815b05",
   "metadata": {},
   "outputs": [],
   "source": []
  },
  {
   "cell_type": "code",
   "execution_count": null,
   "id": "cddef72f",
   "metadata": {},
   "outputs": [],
   "source": []
  }
 ],
 "metadata": {
  "kernelspec": {
   "display_name": "Python 3 (ipykernel)",
   "language": "python",
   "name": "python3"
  },
  "language_info": {
   "codemirror_mode": {
    "name": "ipython",
    "version": 3
   },
   "file_extension": ".py",
   "mimetype": "text/x-python",
   "name": "python",
   "nbconvert_exporter": "python",
   "pygments_lexer": "ipython3",
   "version": "3.10.9"
  }
 },
 "nbformat": 4,
 "nbformat_minor": 5
}
