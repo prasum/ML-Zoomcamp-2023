{
 "cells": [
  {
   "cell_type": "markdown",
   "id": "596b291b",
   "metadata": {},
   "source": [
    "**Question 1**\n",
    "- Install Pipenv\n",
    "- What's the version of pipenv you installed?\n",
    "- Use --version to find out"
   ]
  },
  {
   "cell_type": "code",
   "execution_count": 1,
   "id": "5eac9443",
   "metadata": {},
   "outputs": [
    {
     "name": "stdout",
     "output_type": "stream",
     "text": [
      "pipenv, version 2023.10.3\n"
     ]
    }
   ],
   "source": [
    "!pipenv --version"
   ]
  },
  {
   "cell_type": "markdown",
   "id": "be635a27",
   "metadata": {},
   "source": [
    "Answer: Version is 2023.10.3"
   ]
  },
  {
   "cell_type": "markdown",
   "id": "3df4dec1",
   "metadata": {},
   "source": [
    "**Question 2**\n",
    "- Use Pipenv to install Scikit-Learn version 1.3.1\n",
    "- What's the first hash for scikit-learn you get in Pipfile.lock?"
   ]
  },
  {
   "cell_type": "markdown",
   "id": "96915b25",
   "metadata": {},
   "source": [
    "Answer: sha256:0c275a06c5190c5ce00af0acbb61c06374087949f643ef32d355ece12c4db043"
   ]
  },
  {
   "cell_type": "markdown",
   "id": "480f2fad",
   "metadata": {},
   "source": [
    "**Question 3**\n",
    "- Write a script for loading these models with pickle\n",
    "- Score this client on {\"job\": \"retired\", \"duration\": 445, \"poutcome\": \"success\"}\n",
    "- What's the probability that this client will get a credit?"
   ]
  },
  {
   "cell_type": "markdown",
   "id": "47d6a6fc",
   "metadata": {},
   "source": [
    "Answer: 0.902"
   ]
  },
  {
   "cell_type": "markdown",
   "id": "b9eea389",
   "metadata": {},
   "source": [
    "**Question 4**\n",
    "- Install Flask and gunicorn (or waitress, if you're on Windows)\n",
    "- Write Flask code for serving the model\n",
    "- Now score this client using requests: client = {\"job\": \"unknown\", \"duration\": 270, \"poutcome\": \"failure\"}\n",
    "- What's the probability that this client will get a credit?"
   ]
  },
  {
   "cell_type": "markdown",
   "id": "3494c1e7",
   "metadata": {},
   "source": [
    "Answer: 0.140"
   ]
  },
  {
   "cell_type": "markdown",
   "id": "1a56780b",
   "metadata": {},
   "source": [
    "**Question 5**\n",
    "- What's the size of this base image?"
   ]
  },
  {
   "cell_type": "markdown",
   "id": "890c4107",
   "metadata": {},
   "source": [
    "Answer: 147MB"
   ]
  },
  {
   "cell_type": "markdown",
   "id": "5d4dac41",
   "metadata": {},
   "source": [
    "**Question 6**\n",
    "- Score client on client = {\"job\": \"retired\", \"duration\": 445, \"poutcome\": \"success\"} using docker container"
   ]
  },
  {
   "cell_type": "markdown",
   "id": "19b8096e",
   "metadata": {},
   "source": [
    "Answer: 0.727 ~ 0.730"
   ]
  }
 ],
 "metadata": {
  "kernelspec": {
   "display_name": "Python 3 (ipykernel)",
   "language": "python",
   "name": "python3"
  },
  "language_info": {
   "codemirror_mode": {
    "name": "ipython",
    "version": 3
   },
   "file_extension": ".py",
   "mimetype": "text/x-python",
   "name": "python",
   "nbconvert_exporter": "python",
   "pygments_lexer": "ipython3",
   "version": "3.10.9"
  }
 },
 "nbformat": 4,
 "nbformat_minor": 5
}
